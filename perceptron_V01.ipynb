{
 "cells": [
  {
   "cell_type": "code",
   "execution_count": 486,
   "metadata": {},
   "outputs": [],
   "source": [
    "import numpy as np\n",
    "import sklearn.preprocessing\n",
    "from scipy import stats"
   ]
  },
  {
   "cell_type": "code",
   "execution_count": 487,
   "metadata": {},
   "outputs": [],
   "source": [
    "## Import files \"written\"\n",
    "written_train   = np.load(\"written_train.npy\", allow_pickle=True)\n",
    "\n",
    "# # Import files \"spoken\"\n",
    "spoken_array = np.load('spoken_train.npy', allow_pickle=True)\n",
    "\n",
    "# # Import files \"match\"\n",
    "match_train   = np.load(\"match_train.npy\", allow_pickle=True)\n",
    "\n",
    "written_corner = np.load('image_hoek.npy', allow_pickle=True)\n",
    "plasma_sd = np.load('plasma_sd_Z.npy', allow_pickle=True)\n",
    "plasma_m = np.load('plasma_mean_Z.npy', allow_pickle=True)"
   ]
  },
  {
   "cell_type": "code",
   "execution_count": 488,
   "metadata": {},
   "outputs": [],
   "source": [
    "target = []\n",
    "indexes_true = []\n",
    "indexes_false = []\n",
    "                       \n",
    "for i, j in enumerate(match_train):\n",
    "    if j == True:\n",
    "        target.append(1)\n",
    "        indexes_true.append(i)\n",
    "    elif j == False:\n",
    "        target.append(0)\n",
    "        indexes_false.append(i)\n",
    "        \n",
    "false_included = indexes_false[:4500]\n",
    "included_rows = indexes_true + false_included"
   ]
  },
  {
   "cell_type": "code",
   "execution_count": 489,
   "metadata": {},
   "outputs": [],
   "source": [
    "written_train1 = written_train[included_rows]\n",
    "spoken_array1 = spoken_array[included_rows]\n",
    "match_train1 = match_train[included_rows]\n",
    "written_corner1 = written_corner[included_rows]\n",
    "plasma_sd1 = plasma_sd[included_rows]\n",
    "plasma_m1 = plasma_m[included_rows]"
   ]
  },
  {
   "cell_type": "code",
   "execution_count": 490,
   "metadata": {},
   "outputs": [],
   "source": [
    "##recode written and standardize\n",
    "written_train2 = (written_train-255)/-255"
   ]
  },
  {
   "cell_type": "code",
   "execution_count": 491,
   "metadata": {},
   "outputs": [],
   "source": [
    "## not standardized, only reversed\n",
    "written_train3 = written_train1-255"
   ]
  },
  {
   "cell_type": "code",
   "execution_count": 492,
   "metadata": {},
   "outputs": [],
   "source": [
    "tijdelijk =[]\n",
    "for i in spoken_array1:\n",
    "    means = i.mean(axis = 0)\n",
    "    stds = i.std(axis = 0)\n",
    "    tijdelijk.append((i-means)/stds)\n",
    "\n",
    "new_spoken = np.array(tijdelijk)"
   ]
  },
  {
   "cell_type": "code",
   "execution_count": 493,
   "metadata": {},
   "outputs": [],
   "source": [
    "### MEANS\n",
    "#written_means = []\n",
    "#for i in written_train2:\n",
    "#    written_means.append(np.mean(i))\n",
    "#print(len(written_means))\n",
    "#\n",
    "#spoken_means = []\n",
    "#for i in new_spoken:\n",
    "#    spoken_means.append(np.mean(i))\n",
    "#print(len(spoken_means))\n",
    "#\n",
    "### COUNT OF DARK PIXELS\n",
    "#dark_pixels = []\n",
    "#for i in written_train1:\n",
    "#    dark_pixels_count = 0\n",
    "#    for j in i:\n",
    "#        if j < 50:\n",
    "#            dark_pixels_count += 1\n",
    "#    dark_pixels.append(dark_pixels_count)\n",
    "#\n",
    "#dark_pixels = stats.zscore(dark_pixels)\n",
    "#\n",
    "#print(len(dark_pixels))\n",
    "### LENGTH spoken\n",
    "#spoken_length = []\n",
    "#\n",
    "#for i in new_spoken:\n",
    "#    spoken_length.append(len(i))\n",
    "#    \n",
    "#spoken_length = stats.zscore(spoken_length)\n",
    "#print(len(spoken_length))\n",
    "#\n",
    "#spoken_min = []\n",
    "#for i in new_spoken:\n",
    "#    spoken_min.append(np.amin(i))\n",
    "#print(len(spoken_min))\n",
    "#    \n",
    "#spoken_max = []\n",
    "#for i in new_spoken:\n",
    "#    spoken_max.append(np.amax(i))   \n",
    "#print(len(spoken_max))"
   ]
  },
  {
   "cell_type": "code",
   "execution_count": 494,
   "metadata": {},
   "outputs": [],
   "source": [
    "#means_spoken = []\n",
    "#stds_spoken = []\n",
    "#max_spoken = []\n",
    "#min_spoken = []\n",
    "#kurt_spoken =[]\n",
    "#skew_spoken = []\n",
    "#for i in spoken_array:\n",
    "#    means_spoken.append(stats.zscore(np.mean(i,axis = 0)))\n",
    "#    stds_spoken.append(stats.zscore(np.std(i,axis = 0)))\n",
    "#    kurt_spoken.append(stats.zscore(stats.kurtosis(i)))\n",
    "#    max_spoken.append(stats.zscore(np.argmax(i,axis = 0)))\n",
    "#    min_spoken.append(stats.zscore(np.argmin(i,axis = 0)))\n",
    "#\n",
    "#z = np.hstack([means_spoken,stds_spoken,kurt_spoken,max_spoken,min_spoken])\n",
    "#z.shape"
   ]
  },
  {
   "cell_type": "code",
   "execution_count": 495,
   "metadata": {},
   "outputs": [],
   "source": [
    "def binarize(y):\n",
    "    return [ 1 if y_i == True else -1 for y_i in y]\n",
    "\n",
    "y = match_train\n",
    "targets = binarize(y)"
   ]
  },
  {
   "cell_type": "code",
   "execution_count": 496,
   "metadata": {},
   "outputs": [],
   "source": [
    "test = written_train3[:]\n",
    "test2 = spoken_array1[:]\n",
    "data_set = []\n",
    "for i in range(0,len(test)):\n",
    "    features = {}\n",
    "    target = targets[i]\n",
    "    index = 0\n",
    "    for f in test[i]:\n",
    "        features[index] = f\n",
    "        index += 1\n",
    "    for f2 in z[i]:\n",
    "        features[index] = f2\n",
    "        index += 1\n",
    "    tijd_tuple = (features, target)\n",
    "    data_set.append(tijd_tuple)"
   ]
  },
  {
   "cell_type": "code",
   "execution_count": 497,
   "metadata": {},
   "outputs": [],
   "source": [
    "import random\n",
    "random.seed(123)\n",
    "def prepare_data(x):\n",
    "    \"\"\"Read data from input file, shuffle and return a list of training examples.\"\"\"\n",
    "    train = []\n",
    "    for line in x:\n",
    "        train.append(line)\n",
    "    \n",
    "    # We will shuffle the examples so that we have a mixture of positive and negative cases\n",
    "    random.shuffle(train)\n",
    "    # We unzip the data into input features and target labels\n",
    "    X, Z = list(zip(*train))\n",
    "    # We binarize the labels\n",
    "    Y = binarize(Z)\n",
    "    return list(zip(X,Y))"
   ]
  },
  {
   "cell_type": "code",
   "execution_count": 498,
   "metadata": {},
   "outputs": [
    {
     "name": "stdout",
     "output_type": "stream",
     "text": [
      "We have 9039 examples\n"
     ]
    }
   ],
   "source": [
    "XY = prepare_data(data_set)\n",
    "print(\"We have {} examples\".format(len(XY)))"
   ]
  },
  {
   "cell_type": "code",
   "execution_count": 499,
   "metadata": {},
   "outputs": [
    {
     "name": "stdout",
     "output_type": "stream",
     "text": [
      "-6.5\n"
     ]
    }
   ],
   "source": [
    "def dot(big, small):\n",
    "    s = 0.0\n",
    "    for k,v in small.items():\n",
    "        s = s + v * big.get(k,0)\n",
    "    return s   \n",
    "\n",
    "\n",
    "u = {0:0.5, 1:2.0, 2:-2.5}\n",
    "v = {0:-0.5, 2:2.5, 3:0.5}\n",
    "print(dot(u, v))"
   ]
  },
  {
   "cell_type": "code",
   "execution_count": 500,
   "metadata": {},
   "outputs": [
    {
     "name": "stdout",
     "output_type": "stream",
     "text": [
      "{0: 0.0, 1: 2.0, 2: 0.0, 3: 0.5}\n",
      "{0: 0.5, 1: 2.0, 2: -2.5}\n"
     ]
    }
   ],
   "source": [
    "def increment(big, small):\n",
    "    for k,v in small.items():\n",
    "        big[k] = big.get(k, 0.0) + v\n",
    "        \n",
    "        \n",
    "u = {0:0.5, 1:2.0, 2:-2.5}\n",
    "v = {0:-0.5, 2:2.5, 3:0.5}\n",
    "increment(u, v)\n",
    "print(u) \n",
    "u = {0:0.5, 1:2.0, 2:-2.5}\n",
    "w = {}\n",
    "increment(u, w)\n",
    "print(u)\n"
   ]
  },
  {
   "cell_type": "code",
   "execution_count": 501,
   "metadata": {},
   "outputs": [
    {
     "name": "stdout",
     "output_type": "stream",
     "text": [
      "{0: 1.0, 1: 4.0, 2: -5.0}\n",
      "{0: 0.5, 1: 2.0, 2: -2.5}\n",
      "{0: 1.0, 1: 2.0, 2: -5.0, 3: -0.5}\n"
     ]
    }
   ],
   "source": [
    "def scale(u, n):\n",
    "    result = {}\n",
    "    for k,v in u.items():\n",
    "        result[k] = v * n\n",
    "    return result\n",
    "\n",
    "u = {0:0.5, 1:2.0, 2:-2.5}\n",
    "v = {0:-0.5, 2:2.5, 3:0.5}\n",
    "n = 2.0\n",
    "print(scale(u, n))\n",
    "print(u) # u should be unchanged\n",
    "u = {0:0.5, 1:2.0, 2:-2.5}\n",
    "v = {0:-0.5, 2:2.5, 3:0.5}\n",
    "increment(u, scale(v, -1.0))\n",
    "print(u)\n"
   ]
  },
  {
   "cell_type": "code",
   "execution_count": 502,
   "metadata": {},
   "outputs": [],
   "source": [
    "def initialize():\n",
    "    w = {}\n",
    "    b = 0.0\n",
    "    return {'w':w,'b':b}\n",
    "\n",
    "model = initialize()"
   ]
  },
  {
   "cell_type": "code",
   "execution_count": 503,
   "metadata": {},
   "outputs": [
    {
     "name": "stdout",
     "output_type": "stream",
     "text": [
      "1\n"
     ]
    }
   ],
   "source": [
    "def predict(model, x):\n",
    "    gx = dot(model['w'], x) + model['b']\n",
    "    return 1 if gx >= 0 else -1\n",
    "\n",
    "x = u = {0:0.5, 1:2.0, 2:-2.5}\n",
    "model = initialize()\n",
    "print(predict(model, x))"
   ]
  },
  {
   "cell_type": "code",
   "execution_count": 504,
   "metadata": {},
   "outputs": [],
   "source": [
    "def update(model, xy):\n",
    "    x,y = xy\n",
    "    y_pred = predict(model, x)\n",
    "    if y_pred == 1 and y == -1:\n",
    "        increment(model['w'], scale(x, -1))\n",
    "        model['b'] = model['b'] - 1\n",
    "    elif y_pred == -1 and y == 1:\n",
    "        increment(model['w'], x)\n",
    "        model['b'] = model['b'] + 1\n",
    "    return y_pred"
   ]
  },
  {
   "cell_type": "code",
   "execution_count": 505,
   "metadata": {},
   "outputs": [],
   "source": [
    "def learn(model, XY):\n",
    "    preds = []\n",
    "    for i in range(0,len(XY)):\n",
    "        x_i, y_i = XY[i]\n",
    "        y_pred = update(model, (x_i, y_i))\n",
    "        preds.append(y_pred)\n",
    "    return preds"
   ]
  },
  {
   "cell_type": "code",
   "execution_count": 506,
   "metadata": {},
   "outputs": [],
   "source": [
    "def evaluate(gold, predicted):\n",
    "    N = len(gold)\n",
    "    errs = sum(( 1 if p != y else 0 for p,y in zip(predicted, gold)))\n",
    "    return (errs, N, errs/N)  \n"
   ]
  },
  {
   "cell_type": "code",
   "execution_count": 510,
   "metadata": {},
   "outputs": [],
   "source": [
    "XY_train = XY[:7000]\n",
    "Y_true = [ xy[1] for xy in XY_train ]\n",
    "model = initialize()\n",
    "Y_pred = learn(model, XY_train)"
   ]
  },
  {
   "cell_type": "code",
   "execution_count": 511,
   "metadata": {},
   "outputs": [
    {
     "name": "stdout",
     "output_type": "stream",
     "text": [
      "(1274, 7000, 0.182)\n"
     ]
    }
   ],
   "source": [
    "print(evaluate(Y_true, Y_pred))"
   ]
  },
  {
   "cell_type": "code",
   "execution_count": 512,
   "metadata": {},
   "outputs": [
    {
     "name": "stdout",
     "output_type": "stream",
     "text": [
      "Pass  err_tr err_dev\n",
      "  1   0.182   0.227\n",
      "  2   0.178   0.230\n"
     ]
    },
    {
     "ename": "KeyboardInterrupt",
     "evalue": "",
     "output_type": "error",
     "traceback": [
      "\u001b[0;31m---------------------------------------------------------------------------\u001b[0m",
      "\u001b[0;31mKeyboardInterrupt\u001b[0m                         Traceback (most recent call last)",
      "\u001b[0;32m<ipython-input-512-de30a70fc864>\u001b[0m in \u001b[0;36m<module>\u001b[0;34m\u001b[0m\n\u001b[1;32m     13\u001b[0m         \u001b[0mprint\u001b[0m\u001b[0;34m(\u001b[0m\u001b[0;34m\"{:3d} {:7.3f} {:7.3f}\"\u001b[0m\u001b[0;34m.\u001b[0m\u001b[0mformat\u001b[0m\u001b[0;34m(\u001b[0m\u001b[0mi\u001b[0m\u001b[0;34m,\u001b[0m \u001b[0mrate_train\u001b[0m\u001b[0;34m,\u001b[0m \u001b[0mrate_dev\u001b[0m\u001b[0;34m)\u001b[0m\u001b[0;34m)\u001b[0m\u001b[0;34m\u001b[0m\u001b[0;34m\u001b[0m\u001b[0m\n\u001b[1;32m     14\u001b[0m \u001b[0;34m\u001b[0m\u001b[0m\n\u001b[0;32m---> 15\u001b[0;31m \u001b[0mrun\u001b[0m\u001b[0;34m(\u001b[0m\u001b[0mXY\u001b[0m\u001b[0;34m,\u001b[0m \u001b[0mpasses\u001b[0m\u001b[0;34m=\u001b[0m\u001b[0;36m10\u001b[0m\u001b[0;34m)\u001b[0m\u001b[0;34m\u001b[0m\u001b[0;34m\u001b[0m\u001b[0m\n\u001b[0m",
      "\u001b[0;32m<ipython-input-512-de30a70fc864>\u001b[0m in \u001b[0;36mrun\u001b[0;34m(XY, passes)\u001b[0m\n\u001b[1;32m      7\u001b[0m     \u001b[0mprint\u001b[0m\u001b[0;34m(\u001b[0m\u001b[0;34m\"{:>3s} {:>7s} {:>7s}\"\u001b[0m\u001b[0;34m.\u001b[0m\u001b[0mformat\u001b[0m\u001b[0;34m(\u001b[0m\u001b[0;34m\"Pass\"\u001b[0m\u001b[0;34m,\u001b[0m \u001b[0;34m\"err_tr\"\u001b[0m\u001b[0;34m,\u001b[0m \u001b[0;34m\"err_dev\"\u001b[0m\u001b[0;34m)\u001b[0m\u001b[0;34m)\u001b[0m\u001b[0;34m\u001b[0m\u001b[0;34m\u001b[0m\u001b[0m\n\u001b[1;32m      8\u001b[0m     \u001b[0;32mfor\u001b[0m \u001b[0mi\u001b[0m \u001b[0;32min\u001b[0m \u001b[0mrange\u001b[0m\u001b[0;34m(\u001b[0m\u001b[0;36m1\u001b[0m\u001b[0;34m,\u001b[0m \u001b[0mpasses\u001b[0m\u001b[0;34m+\u001b[0m\u001b[0;36m1\u001b[0m\u001b[0;34m)\u001b[0m\u001b[0;34m:\u001b[0m\u001b[0;34m\u001b[0m\u001b[0;34m\u001b[0m\u001b[0m\n\u001b[0;32m----> 9\u001b[0;31m         \u001b[0mpredicted_train\u001b[0m \u001b[0;34m=\u001b[0m \u001b[0mlearn\u001b[0m\u001b[0;34m(\u001b[0m\u001b[0mmodel\u001b[0m\u001b[0;34m,\u001b[0m \u001b[0mXY_train\u001b[0m\u001b[0;34m)\u001b[0m\u001b[0;34m\u001b[0m\u001b[0;34m\u001b[0m\u001b[0m\n\u001b[0m\u001b[1;32m     10\u001b[0m         \u001b[0m_\u001b[0m\u001b[0;34m,\u001b[0m \u001b[0m_\u001b[0m\u001b[0;34m,\u001b[0m \u001b[0mrate_train\u001b[0m \u001b[0;34m=\u001b[0m \u001b[0mevaluate\u001b[0m\u001b[0;34m(\u001b[0m\u001b[0mY_train\u001b[0m\u001b[0;34m,\u001b[0m \u001b[0mpredicted_train\u001b[0m\u001b[0;34m)\u001b[0m\u001b[0;34m\u001b[0m\u001b[0;34m\u001b[0m\u001b[0m\n\u001b[1;32m     11\u001b[0m         \u001b[0mpredicted_dev\u001b[0m \u001b[0;34m=\u001b[0m \u001b[0;34m[\u001b[0m \u001b[0mpredict\u001b[0m\u001b[0;34m(\u001b[0m\u001b[0mmodel\u001b[0m\u001b[0;34m,\u001b[0m \u001b[0mx\u001b[0m\u001b[0;34m)\u001b[0m \u001b[0;32mfor\u001b[0m \u001b[0;34m(\u001b[0m\u001b[0mx\u001b[0m\u001b[0;34m,\u001b[0m\u001b[0m_\u001b[0m\u001b[0;34m)\u001b[0m \u001b[0;32min\u001b[0m \u001b[0mXY_dev\u001b[0m \u001b[0;34m]\u001b[0m\u001b[0;34m\u001b[0m\u001b[0;34m\u001b[0m\u001b[0m\n",
      "\u001b[0;32m<ipython-input-505-4cf2eb3bc9ae>\u001b[0m in \u001b[0;36mlearn\u001b[0;34m(model, XY)\u001b[0m\n\u001b[1;32m      3\u001b[0m     \u001b[0;32mfor\u001b[0m \u001b[0mi\u001b[0m \u001b[0;32min\u001b[0m \u001b[0mrange\u001b[0m\u001b[0;34m(\u001b[0m\u001b[0;36m0\u001b[0m\u001b[0;34m,\u001b[0m\u001b[0mlen\u001b[0m\u001b[0;34m(\u001b[0m\u001b[0mXY\u001b[0m\u001b[0;34m)\u001b[0m\u001b[0;34m)\u001b[0m\u001b[0;34m:\u001b[0m\u001b[0;34m\u001b[0m\u001b[0;34m\u001b[0m\u001b[0m\n\u001b[1;32m      4\u001b[0m         \u001b[0mx_i\u001b[0m\u001b[0;34m,\u001b[0m \u001b[0my_i\u001b[0m \u001b[0;34m=\u001b[0m \u001b[0mXY\u001b[0m\u001b[0;34m[\u001b[0m\u001b[0mi\u001b[0m\u001b[0;34m]\u001b[0m\u001b[0;34m\u001b[0m\u001b[0;34m\u001b[0m\u001b[0m\n\u001b[0;32m----> 5\u001b[0;31m         \u001b[0my_pred\u001b[0m \u001b[0;34m=\u001b[0m \u001b[0mupdate\u001b[0m\u001b[0;34m(\u001b[0m\u001b[0mmodel\u001b[0m\u001b[0;34m,\u001b[0m \u001b[0;34m(\u001b[0m\u001b[0mx_i\u001b[0m\u001b[0;34m,\u001b[0m \u001b[0my_i\u001b[0m\u001b[0;34m)\u001b[0m\u001b[0;34m)\u001b[0m\u001b[0;34m\u001b[0m\u001b[0;34m\u001b[0m\u001b[0m\n\u001b[0m\u001b[1;32m      6\u001b[0m         \u001b[0mpreds\u001b[0m\u001b[0;34m.\u001b[0m\u001b[0mappend\u001b[0m\u001b[0;34m(\u001b[0m\u001b[0my_pred\u001b[0m\u001b[0;34m)\u001b[0m\u001b[0;34m\u001b[0m\u001b[0;34m\u001b[0m\u001b[0m\n\u001b[1;32m      7\u001b[0m     \u001b[0;32mreturn\u001b[0m \u001b[0mpreds\u001b[0m\u001b[0;34m\u001b[0m\u001b[0;34m\u001b[0m\u001b[0m\n",
      "\u001b[0;32m<ipython-input-504-bedb8b9be51b>\u001b[0m in \u001b[0;36mupdate\u001b[0;34m(model, xy)\u001b[0m\n\u001b[1;32m      1\u001b[0m \u001b[0;32mdef\u001b[0m \u001b[0mupdate\u001b[0m\u001b[0;34m(\u001b[0m\u001b[0mmodel\u001b[0m\u001b[0;34m,\u001b[0m \u001b[0mxy\u001b[0m\u001b[0;34m)\u001b[0m\u001b[0;34m:\u001b[0m\u001b[0;34m\u001b[0m\u001b[0;34m\u001b[0m\u001b[0m\n\u001b[1;32m      2\u001b[0m     \u001b[0mx\u001b[0m\u001b[0;34m,\u001b[0m\u001b[0my\u001b[0m \u001b[0;34m=\u001b[0m \u001b[0mxy\u001b[0m\u001b[0;34m\u001b[0m\u001b[0;34m\u001b[0m\u001b[0m\n\u001b[0;32m----> 3\u001b[0;31m     \u001b[0my_pred\u001b[0m \u001b[0;34m=\u001b[0m \u001b[0mpredict\u001b[0m\u001b[0;34m(\u001b[0m\u001b[0mmodel\u001b[0m\u001b[0;34m,\u001b[0m \u001b[0mx\u001b[0m\u001b[0;34m)\u001b[0m\u001b[0;34m\u001b[0m\u001b[0;34m\u001b[0m\u001b[0m\n\u001b[0m\u001b[1;32m      4\u001b[0m     \u001b[0;32mif\u001b[0m \u001b[0my_pred\u001b[0m \u001b[0;34m==\u001b[0m \u001b[0;36m1\u001b[0m \u001b[0;32mand\u001b[0m \u001b[0my\u001b[0m \u001b[0;34m==\u001b[0m \u001b[0;34m-\u001b[0m\u001b[0;36m1\u001b[0m\u001b[0;34m:\u001b[0m\u001b[0;34m\u001b[0m\u001b[0;34m\u001b[0m\u001b[0m\n\u001b[1;32m      5\u001b[0m         \u001b[0mincrement\u001b[0m\u001b[0;34m(\u001b[0m\u001b[0mmodel\u001b[0m\u001b[0;34m[\u001b[0m\u001b[0;34m'w'\u001b[0m\u001b[0;34m]\u001b[0m\u001b[0;34m,\u001b[0m \u001b[0mscale\u001b[0m\u001b[0;34m(\u001b[0m\u001b[0mx\u001b[0m\u001b[0;34m,\u001b[0m \u001b[0;34m-\u001b[0m\u001b[0;36m1\u001b[0m\u001b[0;34m)\u001b[0m\u001b[0;34m)\u001b[0m\u001b[0;34m\u001b[0m\u001b[0;34m\u001b[0m\u001b[0m\n",
      "\u001b[0;32m<ipython-input-503-c9400d1a5b84>\u001b[0m in \u001b[0;36mpredict\u001b[0;34m(model, x)\u001b[0m\n\u001b[1;32m      1\u001b[0m \u001b[0;32mdef\u001b[0m \u001b[0mpredict\u001b[0m\u001b[0;34m(\u001b[0m\u001b[0mmodel\u001b[0m\u001b[0;34m,\u001b[0m \u001b[0mx\u001b[0m\u001b[0;34m)\u001b[0m\u001b[0;34m:\u001b[0m\u001b[0;34m\u001b[0m\u001b[0;34m\u001b[0m\u001b[0m\n\u001b[0;32m----> 2\u001b[0;31m     \u001b[0mgx\u001b[0m \u001b[0;34m=\u001b[0m \u001b[0mdot\u001b[0m\u001b[0;34m(\u001b[0m\u001b[0mmodel\u001b[0m\u001b[0;34m[\u001b[0m\u001b[0;34m'w'\u001b[0m\u001b[0;34m]\u001b[0m\u001b[0;34m,\u001b[0m \u001b[0mx\u001b[0m\u001b[0;34m)\u001b[0m \u001b[0;34m+\u001b[0m \u001b[0mmodel\u001b[0m\u001b[0;34m[\u001b[0m\u001b[0;34m'b'\u001b[0m\u001b[0;34m]\u001b[0m\u001b[0;34m\u001b[0m\u001b[0;34m\u001b[0m\u001b[0m\n\u001b[0m\u001b[1;32m      3\u001b[0m     \u001b[0;32mreturn\u001b[0m \u001b[0;36m1\u001b[0m \u001b[0;32mif\u001b[0m \u001b[0mgx\u001b[0m \u001b[0;34m>=\u001b[0m \u001b[0;36m0\u001b[0m \u001b[0;32melse\u001b[0m \u001b[0;34m-\u001b[0m\u001b[0;36m1\u001b[0m\u001b[0;34m\u001b[0m\u001b[0;34m\u001b[0m\u001b[0m\n\u001b[1;32m      4\u001b[0m \u001b[0;34m\u001b[0m\u001b[0m\n\u001b[1;32m      5\u001b[0m \u001b[0mx\u001b[0m \u001b[0;34m=\u001b[0m \u001b[0mu\u001b[0m \u001b[0;34m=\u001b[0m \u001b[0;34m{\u001b[0m\u001b[0;36m0\u001b[0m\u001b[0;34m:\u001b[0m\u001b[0;36m0.5\u001b[0m\u001b[0;34m,\u001b[0m \u001b[0;36m1\u001b[0m\u001b[0;34m:\u001b[0m\u001b[0;36m2.0\u001b[0m\u001b[0;34m,\u001b[0m \u001b[0;36m2\u001b[0m\u001b[0;34m:\u001b[0m\u001b[0;34m-\u001b[0m\u001b[0;36m2.5\u001b[0m\u001b[0;34m}\u001b[0m\u001b[0;34m\u001b[0m\u001b[0;34m\u001b[0m\u001b[0m\n",
      "\u001b[0;32m<ipython-input-499-9b6aa4210942>\u001b[0m in \u001b[0;36mdot\u001b[0;34m(big, small)\u001b[0m\n\u001b[1;32m      2\u001b[0m     \u001b[0ms\u001b[0m \u001b[0;34m=\u001b[0m \u001b[0;36m0.0\u001b[0m\u001b[0;34m\u001b[0m\u001b[0;34m\u001b[0m\u001b[0m\n\u001b[1;32m      3\u001b[0m     \u001b[0;32mfor\u001b[0m \u001b[0mk\u001b[0m\u001b[0;34m,\u001b[0m\u001b[0mv\u001b[0m \u001b[0;32min\u001b[0m \u001b[0msmall\u001b[0m\u001b[0;34m.\u001b[0m\u001b[0mitems\u001b[0m\u001b[0;34m(\u001b[0m\u001b[0;34m)\u001b[0m\u001b[0;34m:\u001b[0m\u001b[0;34m\u001b[0m\u001b[0;34m\u001b[0m\u001b[0m\n\u001b[0;32m----> 4\u001b[0;31m         \u001b[0ms\u001b[0m \u001b[0;34m=\u001b[0m \u001b[0ms\u001b[0m \u001b[0;34m+\u001b[0m \u001b[0mv\u001b[0m \u001b[0;34m*\u001b[0m \u001b[0mbig\u001b[0m\u001b[0;34m.\u001b[0m\u001b[0mget\u001b[0m\u001b[0;34m(\u001b[0m\u001b[0mk\u001b[0m\u001b[0;34m,\u001b[0m\u001b[0;36m0\u001b[0m\u001b[0;34m)\u001b[0m\u001b[0;34m\u001b[0m\u001b[0;34m\u001b[0m\u001b[0m\n\u001b[0m\u001b[1;32m      5\u001b[0m     \u001b[0;32mreturn\u001b[0m \u001b[0ms\u001b[0m\u001b[0;34m\u001b[0m\u001b[0;34m\u001b[0m\u001b[0m\n\u001b[1;32m      6\u001b[0m \u001b[0;34m\u001b[0m\u001b[0m\n",
      "\u001b[0;31mKeyboardInterrupt\u001b[0m: "
     ]
    }
   ],
   "source": [
    "def run(XY, passes=1):\n",
    "    XY_train = XY[:7000]\n",
    "    XY_dev   = XY[7000:]\n",
    "    Y_train = [ xy[1] for xy in XY_train ]\n",
    "    Y_dev   = [ xy[1] for xy in XY_dev ]\n",
    "    model = initialize()\n",
    "    print(\"{:>3s} {:>7s} {:>7s}\".format(\"Pass\", \"err_tr\", \"err_dev\"))\n",
    "    for i in range(1, passes+1):\n",
    "        predicted_train = learn(model, XY_train)\n",
    "        _, _, rate_train = evaluate(Y_train, predicted_train)\n",
    "        predicted_dev = [ predict(model, x) for (x,_) in XY_dev ]\n",
    "        _, _, rate_dev = evaluate(Y_dev, predicted_dev)\n",
    "        print(\"{:3d} {:7.3f} {:7.3f}\".format(i, rate_train, rate_dev))\n",
    "        \n",
    "run(XY, passes=10)"
   ]
  },
  {
   "cell_type": "code",
   "execution_count": null,
   "metadata": {},
   "outputs": [],
   "source": []
  },
  {
   "cell_type": "code",
   "execution_count": null,
   "metadata": {},
   "outputs": [],
   "source": []
  }
 ],
 "metadata": {
  "kernelspec": {
   "display_name": "Python 3",
   "language": "python",
   "name": "python3"
  },
  "language_info": {
   "codemirror_mode": {
    "name": "ipython",
    "version": 3
   },
   "file_extension": ".py",
   "mimetype": "text/x-python",
   "name": "python",
   "nbconvert_exporter": "python",
   "pygments_lexer": "ipython3",
   "version": "3.7.2"
  }
 },
 "nbformat": 4,
 "nbformat_minor": 2
}
