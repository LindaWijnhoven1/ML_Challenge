{
 "cells": [
  {
   "cell_type": "code",
   "execution_count": 1,
   "metadata": {},
   "outputs": [],
   "source": [
    "import numpy as np\n",
    "import matplotlib.pyplot as plt\n",
    "import pandas as pd\n",
    "\n",
    "## Import files \"written\"\n",
    "written_train = np.load(\"written_train.npy\", allow_pickle=True)\n",
    "written_train = written_train\n",
    "\n",
    "# # Import files \"spoken\"\n",
    "spoken_train = np.load('spoken_train.npy', allow_pickle=True)\n",
    "spoken_train = spoken_train\n",
    "#spoken_train = []\n",
    "\n",
    "# for array in spoken_array:\n",
    "#     x = array.flatten()\n",
    "#     spoken_train.append(x)\n",
    "\n",
    "# # Import file \"match\"\n",
    "match_train = np.load('match_train.npy', allow_pickle=True)\n",
    "match_train = match_train"
   ]
  },
  {
   "cell_type": "code",
   "execution_count": 2,
   "metadata": {},
   "outputs": [
    {
     "name": "stdout",
     "output_type": "stream",
     "text": [
      "93.0\n"
     ]
    }
   ],
   "source": [
    "lengths_spoken = np.empty(len(spoken_train))\n",
    "for index, value in enumerate(spoken_train):\n",
    "    lengths_spoken[index] = value.shape[0]\n",
    "\n",
    "sorted_lengths = np.sort(lengths_spoken)\n",
    "longest_length = sorted_lengths[-1]\n",
    "print(longest_length)\n",
    "\n",
    "padden_spoken = []\n",
    "\n",
    "for i in spoken_train:\n",
    "    if i.shape[0] < longest_length:\n",
    "        pad_size = longest_length - i.shape[0]\n",
    "        length = i.shape[1]\n",
    "        pad_array = np.zeros((13,), dtype=np.int)\n",
    "        x = np.tile(pad_array, (int(pad_size),1))\n",
    "        i = np.concatenate((i, x), axis=0)\n",
    "        padden_spoken.append(i)\n",
    "    else:\n",
    "        padden_spoken.append(i)"
   ]
  },
  {
   "cell_type": "code",
   "execution_count": 3,
   "metadata": {},
   "outputs": [],
   "source": [
    "nieuw = np.array(padden_spoken)\n",
    "nieuw_2 = []\n",
    "for i in range(0,len(nieuw)):\n",
    "    temp_list = np.array(nieuw[i].flatten())\n",
    "    nieuw_2.append(temp_list)\n",
    "\n",
    "nieuw_3 = np.array(nieuw_2)\n",
    "nieuw_4 = np.concatenate((nieuw_3, written_train), axis=1)"
   ]
  },
  {
   "cell_type": "code",
   "execution_count": 4,
   "metadata": {},
   "outputs": [],
   "source": [
    "target = []\n",
    "indexes_true = []\n",
    "indexes_false = []\n",
    "                       \n",
    "for i, j in enumerate(match_train):\n",
    "    if j == True:\n",
    "        target.append(1)\n",
    "        indexes_true.append(i)\n",
    "    elif j == False:\n",
    "        target.append(-1)\n",
    "        indexes_false.append(i)\n",
    "        \n",
    "false_included = indexes_false[:6000]\n",
    "included_rows = indexes_true + false_included"
   ]
  },
  {
   "cell_type": "code",
   "execution_count": null,
   "metadata": {},
   "outputs": [],
   "source": [
    "import pandas as pd\n",
    "df_a=pd.DataFrame(data=nieuw_4[:,:],    # values\n",
    "             index=range(0,nieuw_4.shape[0]),    # 1st column as index\n",
    "             columns=range(0,nieuw_4.shape[1]))"
   ]
  },
  {
   "cell_type": "code",
   "execution_count": null,
   "metadata": {},
   "outputs": [],
   "source": [
    "X = df_a.iloc[included_rows, 0:1993].values\n",
    "y = np.array(target)[included_rows]"
   ]
  },
  {
   "cell_type": "code",
   "execution_count": null,
   "metadata": {},
   "outputs": [],
   "source": [
    "from sklearn.model_selection import train_test_split\n",
    "X_train, X_val, y_train, y_val = train_test_split(X, y, test_size = 0.2)"
   ]
  },
  {
   "cell_type": "code",
   "execution_count": null,
   "metadata": {},
   "outputs": [],
   "source": [
    "import keras\n",
    "from keras.models import Sequential\n",
    "from keras.layers import Dense"
   ]
  },
  {
   "cell_type": "code",
   "execution_count": null,
   "metadata": {},
   "outputs": [],
   "source": [
    "classifier = Sequential()\n",
    "\n",
    "# Adding the input layer and the first hidden layer\n",
    "#classifier.add(Flatten())\n",
    "classifier.add(Dense(output_dim = 6, init = 'uniform', activation = 'relu', input_dim = 6))\n",
    "# Adding the second hidden layer\n",
    "classifier.add(Dense(output_dim = 4, init = 'uniform', activation = 'relu'))\n",
    "classifier.add(Dense(output_dim = 6, init = 'uniform', activation = 'relu'))\n",
    "classifier.add(Dense(output_dim = 4, init = 'uniform', activation = 'relu'))\n",
    "# Adding the output layer\n",
    "classifier.add(Dense(output_dim = 1, init = 'uniform', activation = 'sigmoid'))"
   ]
  },
  {
   "cell_type": "code",
   "execution_count": null,
   "metadata": {},
   "outputs": [],
   "source": [
    "classifier.compile(optimizer = 'adam', loss = 'binary_crossentropy', metrics = ['accuracy'])"
   ]
  },
  {
   "cell_type": "code",
   "execution_count": null,
   "metadata": {},
   "outputs": [],
   "source": [
    "classifier.fit(X_train, y_train, batch_size = 50, nb_epoch = 100)"
   ]
  },
  {
   "cell_type": "code",
   "execution_count": null,
   "metadata": {},
   "outputs": [],
   "source": [
    "loss, accuracy = classifier.evaluate(X_val, y_val)\n",
    "print(\"Accuracy\", accuracy)"
   ]
  },
  {
   "cell_type": "code",
   "execution_count": null,
   "metadata": {},
   "outputs": [],
   "source": [
    "## TN, FP\n",
    "## FN, TP\n",
    "y_pred = classifier.predict(X_val)\n",
    "y_predict = (y_pred > 0.5)\n",
    "\n",
    "from sklearn.metrics import confusion_matrix\n",
    "cm = confusion_matrix(y_val, y_predict)\n",
    "print(cm)"
   ]
  },
  {
   "cell_type": "code",
   "execution_count": null,
   "metadata": {},
   "outputs": [],
   "source": []
  }
 ],
 "metadata": {
  "kernelspec": {
   "display_name": "Python 3",
   "language": "python",
   "name": "python3"
  },
  "language_info": {
   "codemirror_mode": {
    "name": "ipython",
    "version": 3
   },
   "file_extension": ".py",
   "mimetype": "text/x-python",
   "name": "python",
   "nbconvert_exporter": "python",
   "pygments_lexer": "ipython3",
   "version": "3.7.2"
  }
 },
 "nbformat": 4,
 "nbformat_minor": 2
}
